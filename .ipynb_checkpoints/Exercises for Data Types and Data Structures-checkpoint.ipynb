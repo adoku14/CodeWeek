{
 "cells": [
  {
   "cell_type": "markdown",
   "metadata": {},
   "source": [
    "# Python exercises for primitive and non-primitive data Types\n"
   ]
  },
  {
   "cell_type": "markdown",
   "metadata": {},
   "source": [
    "## 1. Primitive Data Types"
   ]
  },
  {
   "cell_type": "markdown",
   "metadata": {},
   "source": [
    "The first exercise is related to string primitive type. \n",
    "\n",
    "Create a program that asks the user to enter information like name, surname, address and age and some information about itself.\n",
    "\n",
    "task 1: given the name and surname, join 2 string into 1 string. For example, name = Ali and Surname = Doku -> joined string is Ali Doku.\n",
    "\n",
    "task:2: search for a specific word in the information that is provided. If found print the index of this string. else print ('not found')\n",
    "\n",
    "task 3: split the address into street name, house number, and city.\n",
    "\n",
    "task 4: check if the person is alread adult(+18) or not. you can use boolean types for comparison\n",
    "\n",
    "Hint: \n",
    "1- to activate user input use input() function.\n",
    "2- remember find() function properties."
   ]
  },
  {
   "cell_type": "code",
   "execution_count": null,
   "metadata": {},
   "outputs": [],
   "source": [
    "### Start you code here ###\n",
    "\n",
    "# 1. ask the user to input the information\n",
    "name = input()\n",
    "surname = # input here\n",
    "address = # input here\n",
    "age = # input here\n",
    "information = # input here\n",
    "\n",
    "# search for the word and print the starting index of the string.\n",
    "\n",
    "\n",
    "#split the address into street name, house number and city. Use a dictionary to save them.\n"
   ]
  },
  {
   "cell_type": "code",
   "execution_count": null,
   "metadata": {},
   "outputs": [],
   "source": []
  },
  {
   "cell_type": "markdown",
   "metadata": {},
   "source": [
    "#### 2nd Exercise- Integer and float numbers\n",
    "\n",
    "Given a string, return the sum and average of the digits that appear in the string.\n",
    "task 1: return the sum and average of the digits\n",
    "task 2: print how many number are there. \n",
    "task 3: check if number 5 occurs in the list of string. \n",
    "task 4: Remove the duplicates.\n",
    "\n",
    "Hint:\n",
    "first split the long string. This will return a list of strings. then iterate through list by using for loops\n",
    "ex. for string in list:\n",
    "and take the sum of all numbers. \n",
    "check if number 5 occurs in the list of strings or not. \n",
    "\n"
   ]
  },
  {
   "cell_type": "code",
   "execution_count": null,
   "metadata": {},
   "outputs": [],
   "source": [
    "string = '50,100,2,6,8,9,5,4,8,55,86'\n",
    "\n",
    "### start your code here ###\n",
    "\n",
    "\n"
   ]
  },
  {
   "cell_type": "code",
   "execution_count": null,
   "metadata": {},
   "outputs": [],
   "source": []
  },
  {
   "cell_type": "markdown",
   "metadata": {},
   "source": [
    "#### 3rd exercise Non-primitive data types\n",
    "\n",
    "We randomly have created 2 integer lists, containing positive and negative integers. the tasks are:\n",
    "task 1: find the intersection fo these lists. \n",
    "task 2: union these lists.\n",
    "task 3: using the dictionary already created, you have to categorize the union list(from task 2) into positive and negative integers.\n",
    "task 4: print the length of positive and negative numbers. Hint: use len() to find the length of a list or you can use Counter(). "
   ]
  },
  {
   "cell_type": "code",
   "execution_count": 6,
   "metadata": {
    "scrolled": true
   },
   "outputs": [
    {
     "data": {
      "text/plain": [
       "([18, 18, -9, -18, 6, -7, 19, 5, 10, -14, 5, -14, 2, 16, 0],\n",
       " [-10, 17, 1, 2, 9, 18, -10, -14, -8, 5, 4, 2, -7, -6, 18])"
      ]
     },
     "execution_count": 6,
     "metadata": {},
     "output_type": "execute_result"
    }
   ],
   "source": [
    "import random\n",
    "a = [random.randrange(-20, 20, 1) for x in range(15)]\n",
    "b = [random.randrange(-20, 20, 1) for x in range(15)]\n",
    "a, b"
   ]
  },
  {
   "cell_type": "code",
   "execution_count": null,
   "metadata": {},
   "outputs": [],
   "source": [
    "# find the intersection\n"
   ]
  },
  {
   "cell_type": "code",
   "execution_count": null,
   "metadata": {},
   "outputs": [],
   "source": [
    "# union the lists"
   ]
  },
  {
   "cell_type": "code",
   "execution_count": null,
   "metadata": {},
   "outputs": [],
   "source": [
    "# using the dict, categorize the numbers into positive and negative\n",
    "category = {'positive': [],\n",
    "            'negative': []}"
   ]
  },
  {
   "cell_type": "code",
   "execution_count": null,
   "metadata": {},
   "outputs": [],
   "source": [
    "# print the length of positive number and negative numbers. \n"
   ]
  },
  {
   "cell_type": "code",
   "execution_count": null,
   "metadata": {},
   "outputs": [],
   "source": []
  },
  {
   "cell_type": "markdown",
   "metadata": {},
   "source": [
    "<b>4th exercise: </b> Dictionaries\n",
    "\n",
    "Write a Python script to generate and print a dictionary that contains a number (between 1 and n) in the form (x, x*x)\n",
    "\n",
    "Sample Dictionary ( n = 5) :\n",
    "Expected Output : {1: 1, 2: 4, 3: 9, 4: 16, 5: 25}"
   ]
  },
  {
   "cell_type": "code",
   "execution_count": null,
   "metadata": {},
   "outputs": [],
   "source": []
  },
  {
   "cell_type": "code",
   "execution_count": null,
   "metadata": {},
   "outputs": [],
   "source": []
  },
  {
   "cell_type": "markdown",
   "metadata": {},
   "source": [
    "<b> 5th Exercise </b> \n",
    "Remove duplicate from a list and find the minimum and maximum number\n"
   ]
  },
  {
   "cell_type": "code",
   "execution_count": null,
   "metadata": {},
   "outputs": [],
   "source": [
    "sampleList = [87, 45, 41, 65, 94, 41, 99, 94]"
   ]
  }
 ],
 "metadata": {
  "kernelspec": {
   "display_name": "Python 3",
   "language": "python",
   "name": "python3"
  },
  "language_info": {
   "codemirror_mode": {
    "name": "ipython",
    "version": 3
   },
   "file_extension": ".py",
   "mimetype": "text/x-python",
   "name": "python",
   "nbconvert_exporter": "python",
   "pygments_lexer": "ipython3",
   "version": "3.6.9"
  }
 },
 "nbformat": 4,
 "nbformat_minor": 2
}
