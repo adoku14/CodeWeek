{
 "cells": [
  {
   "cell_type": "markdown",
   "metadata": {},
   "source": [
    "# Extra Exercises "
   ]
  },
  {
   "cell_type": "markdown",
   "metadata": {},
   "source": [
    "<b> Exercise 1: </b>Write a Python program to add the digits of a positive integer repeatedly until the result has a single digit. <br>\n",
    "Input : 48 <br>\n",
    "Output : 3<br>\n",
    "For example given number is 59, the result will be 5. <br>\n",
    "Step 1: 5 + 9 = 14<br>\n",
    "Step 1: 1 + 4 = 5"
   ]
  },
  {
   "cell_type": "code",
   "execution_count": 1,
   "metadata": {},
   "outputs": [
    {
     "name": "stdout",
     "output_type": "stream",
     "text": [
      "Enter a number here 55\n",
      "55\n",
      "Step 1: 5+5 = 10\n",
      "10\n",
      "Step 2: 1+0 = 1\n",
      "success\n"
     ]
    }
   ],
   "source": [
    "import math\n",
    "number = input('Enter a number here ')#input the number\n",
    "check_number = math.inf #initialize it to inf in order to satisfy the wule condition.\n",
    "cnt = 0\n",
    "\n",
    "while check_number >=10:#if greater than 10, meaning the number has more than 1 digit. \n",
    "    check_number = 0\n",
    "    str_number = str(number)#make the calculation according to requirements and update the check number untill is 1 digit number.\n",
    "    cnt += 1\n",
    "    numbers = ''\n",
    "    print(str_number)\n",
    "    for i in str_number:\n",
    "        numbers += i + '+'\n",
    "        check_number += int(i)\n",
    "    number = check_number\n",
    "    print('Step {}: {} = {}'.format(cnt, numbers[:-1] , check_number))\n",
    "print('success')"
   ]
  },
  {
   "cell_type": "markdown",
   "metadata": {},
   "source": [
    "<b> Exercise 2:</b>\n",
    " From Wikipedia - The Collatz conjecture is a conjecture in mathematics that concerns a sequence defined as follows: start with any positive integer n. Then each term is obtained from the previous term as follows: if the previous term is even, the next term is one half the previous term. If the previous term is odd, the next term is 3 times the previous term plus 1. The conjecture is that no matter what value of n, the sequence will always reach 1.\n",
    " So the tasks are:\n",
    "  * Choose a number n and print its sequence.\n",
    "  * Find a starting number, under ten thousand will create the longest chain (tip: need to count all the number for each sequence.).\n",
    " <br>\n",
    "\n",
    "Formula: <br>\n",
    "n --> n/2 (even) <br>\n",
    "n --> 3n + 1 (odd) <br>\n",
    "\n",
    "Examples: <br>\n",
    "12 -> 6 -> 3 -> 10 -> 5 -> 16 -> 8 -> 4 -> 2 -> 1\n",
    "\n",
    "If n = 19 the sequence will be:\n",
    "\n",
    "19 -> 58 -> 29 -> 88 -> 44 -> 22 -> 11 -> 34 -> 17 -> 52 -> 26 -> 13 -> 40 -> 20 -> 10 -> 10 -> 5 ->16 -> 8 -> 4 -> 2 -> 1"
   ]
  },
  {
   "cell_type": "code",
   "execution_count": 17,
   "metadata": {},
   "outputs": [],
   "source": [
    "def long_sequence(nr):\n",
    "    sequence = []\n",
    "    sequence.append(nr)#adding the first number in list\n",
    "    while nr > 1: #while the nr is bigger than 1 (meaning the sequence is not ended)\n",
    "        if nr % 2 == 0: #if the nr is even\n",
    "            nr = nr/2\n",
    "        else:\n",
    "            nr = 3*nr + 1 #if the number is odd\n",
    "        sequence.append(int(nr))\n",
    "    return sequence\n",
    "                "
   ]
  },
  {
   "cell_type": "code",
   "execution_count": 21,
   "metadata": {},
   "outputs": [
    {
     "name": "stdout",
     "output_type": "stream",
     "text": [
      "[19, 58, 29, 88, 44, 22, 11, 34, 17, 52, 26, 13, 40, 20, 10, 5, 16, 8, 4, 2, 1]\n"
     ]
    }
   ],
   "source": [
    "print(long_sequence(19))"
   ]
  },
  {
   "cell_type": "code",
   "execution_count": 20,
   "metadata": {},
   "outputs": [
    {
     "name": "stdout",
     "output_type": "stream",
     "text": [
      "the sequence 6171 is the longest one having 92 elements\n"
     ]
    }
   ],
   "source": [
    "length = 0\n",
    "index = 0\n",
    "for i in range(10000): #iterate through 10000 numbers to find the longest sequence. \n",
    "    answer = long_sequence(i)\n",
    "    if len(answer) > length: #if the result has more elements than one previous, than update length and keep track of the index or number.\n",
    "        length = len(answer)\n",
    "        index = i\n",
    "print('the sequence {} is the longest one having {} elements'.format(index, len(answer)))\n",
    "        "
   ]
  },
  {
   "cell_type": "markdown",
   "metadata": {},
   "source": [
    "<b> Exercise 3: </b>\n",
    "\n",
    "Tally the results of a small football competition.\n",
    "\n",
    "Based on an input file containing which team played against which and what the outcome was, create a file with a table like this:\n",
    "\n",
    "|Team                           | MP |  W |  D |  L |  P|\n",
    "| --- | --- | --- | --- | --- | --- | \n",
    "Devastating Donkeys            |  3 |  2 |  1 |  0 |  7\n",
    "Allegoric Alaskans             |  3 |  2 |  0 |  1 |  6\n",
    "Blithering Badgers             |  3 |  1 |  0 |  2 |  3\n",
    "Courageous Californians        |  3 |  0 |  1 |  2 |  1\n",
    "\n",
    "\n",
    "What do those abbreviations mean?\n",
    "\n",
    "\n",
    "|MP:| Matches Played|\n",
    "| --- | --- |\n",
    "|W: |Matches Won|\n",
    "|D: |Matches Drawn (Tied)|\n",
    "|L: |Matches Lost|\n",
    "|P: |Points|\n",
    "A win earns a team 3 points. A draw earns 1. A loss earns 0.\n",
    "\n",
    "The outcome should be ordered by points, descending. In case of a tie, teams are ordered alphabetically.\n",
    "\n",
    "Input\n",
    "\n",
    "Your tallying program will receive input that looks like:\n",
    "\n",
    "- Allegoric Alaskans;Blithering Badgers;win\n",
    "- Devastating Donkeys;Courageous Californians;draw\n",
    "- Devastating Donkeys;Allegoric Alaskans;win\n",
    "- Courageous Californians;Blithering Badgers;loss\n",
    "- Blithering Badgers;Devastating Donkeys;loss\n",
    "- Allegoric Alaskans;Courageous Californians;win\n",
    "- The result of the match refers to the first team listed. So this line\n",
    "\n",
    "- Allegoric Alaskans;Blithering Badgers;win\n",
    "\n",
    "Means that the Allegoric Alaskans beat the Blithering Badgers.\n",
    "\n",
    "This line:\n",
    "\n",
    "- Courageous Californians;Blithering Badgers;loss\n",
    "\n",
    "Means that the Blithering Badgers beat the Courageous Californians.\n",
    "\n",
    "And this line:\n",
    "\n",
    "- Devastating Donkeys;Courageous Californians;draw\n",
    "\n",
    "Means that the Devastating Donkeys and Courageous Californians tied."
   ]
  },
  {
   "cell_type": "code",
   "execution_count": 9,
   "metadata": {},
   "outputs": [],
   "source": [
    "### start your code here ###\n",
    "# 1- Create a class to keep all the informations (name, wins, looses, draws, number of matches and points)\n",
    "\n",
    "class team:\n",
    "    \n",
    "    def __init__(self, name):\n",
    "        self.name = name\n",
    "        self.win = 0\n",
    "        self.loose = 0\n",
    "        self.tie = 0\n",
    "        self.matches = 0\n",
    "        self.points = 0\n",
    "        \n",
    "    def setWin(self):\n",
    "        self.win += 1\n",
    "    \n",
    "    def setLoose(self):\n",
    "        self.loose += 1\n",
    "        \n",
    "    def setTie(self):\n",
    "        self.tie += 1\n",
    "        \n",
    "    def setMatches(self):\n",
    "        self.matches += 1\n",
    "        \n",
    "    def setPoints(self,point):\n",
    "        self.points += point\n",
    "\n",
    "        "
   ]
  },
  {
   "cell_type": "code",
   "execution_count": 10,
   "metadata": {},
   "outputs": [
    {
     "name": "stdout",
     "output_type": "stream",
     "text": [
      "| Team | MP | W | D | L | P\n",
      "| Devastating Donkeys | 3 | 2 | 1 | 0 | 7 |\n",
      "| Allegoric Alaskans | 3 | 2 | 0 | 1 | 6 |\n",
      "| Blithering Badgers | 3 | 1 | 0 | 2 | 3 |\n",
      "| Courageous Californians | 3 | 0 | 1 | 2 | 1 |\n"
     ]
    }
   ],
   "source": [
    "#read the file and process it.\n",
    "teams = dict()\n",
    "with open('data/tournament.txt', 'r') as f:# open the file in read mode to read all the information\n",
    "    lines = f.readlines()#read all lines\n",
    "    for line in lines: #iterate through lines and split using ';' char. This will split teams \n",
    "        line = line.split(';')\n",
    "        #create the team objects  and save it in a dictionary. If the team is already created (we can do that by checking the dict if it exist)          \n",
    "        if line[0] not in teams.keys():# if not exist create a team and save it .\n",
    "            team_1 = team(line[0])\n",
    "            teams[line[0]] = team_1\n",
    "        else:\n",
    "            team_1 = teams[line[0]]\n",
    "            \n",
    "        if line[1] not in teams.keys():\n",
    "            team_2 = team(line[1])\n",
    "            teams[line[1]] = team_2\n",
    "        else:\n",
    "            team_2 = teams[line[1]]\n",
    "        \n",
    "        \n",
    "        \n",
    "        team_1.setMatches()#Check the information and update the information (wins, points, looses, draws )\n",
    "        team_2.setMatches()\n",
    "        \n",
    "        if line[2].rstrip() == 'win':\n",
    "            team_1.setWin()\n",
    "            team_1.setPoints(3)\n",
    "            \n",
    "            team_2.setLoose()\n",
    "            \n",
    "        elif line[2].rstrip() == 'loss':\n",
    "            team_2.setWin()\n",
    "            team_2.setPoints(3)\n",
    "            \n",
    "            team_1.setLoose()\n",
    "            \n",
    "        elif line[2].rstrip() == 'draw':\n",
    "            team_1.setTie()\n",
    "            team_2.setTie()\n",
    "            \n",
    "            team_1.setPoints(1)\n",
    "            team_2.setPoints(1)\n",
    "\n",
    "#at the end you need to sort the dictionary based on points.\n",
    "teams_sorted = sorted(teams, key = lambda name: teams[name].points, reverse=True)\n",
    "print('| Team | MP | W | D | L | P')\n",
    "for key in teams_sorted:#print the teams and their information\n",
    "    team = teams[key]\n",
    "    print('| {0} | {1} | {2} | {3} | {4} | {5} |'.format(team.name, team.matches, team.win, team.tie, team.loose, team.points))\n"
   ]
  },
  {
   "cell_type": "markdown",
   "metadata": {},
   "source": [
    "<b> Exercise 4: </b> Implement a binary search algorithm.\n",
    "    \n",
    "Searching a sorted collection is a common task. A dictionary is a sorted list of word definitions. Given a word, one can find its definition. A telephone book is a sorted list of people's names, addresses, and telephone numbers. Knowing someone's name allows one to quickly find their telephone number and address.\n",
    "\n",
    "If the list to be searched contains more than a few items (a dozen, say) a binary search will require far fewer comparisons than a linear search, but it imposes the requirement that the list be sorted.\n",
    "\n",
    "In computer science, a binary search or half-interval search algorithm finds the position of a specified input value (the search \"key\") within an array sorted by key value.\n",
    "\n",
    "In each step, the algorithm compares the search key value with the key value of the middle element of the array.\n",
    "\n",
    "If the keys match, then a matching element has been found and its index, or position, is returned.\n",
    "\n",
    "Otherwise, if the search key is less than the middle element's key, then the algorithm repeats its action on the sub-array to the left of the middle element or, if the search key is greater, on the sub-array to the right.\n",
    "\n",
    "If the remaining array to be searched is empty, then the key cannot be found in the array and a special \"not found\" indication is returned.\n",
    "\n",
    "A binary search halves the number of items to check with each iteration, so locating an item (or determining its absence) takes logarithmic time. A binary search is a dichotomic divide and conquer search algorithm.\n",
    "\n",
    "In other words:\n",
    "    * mid value = (low + high)/2  \n",
    "    * if mid value is smaller than value than low = mid + 1\n",
    "    * else mid value is greater than value than low = mid - 1\n",
    "    * else if mid value is equal to value than return value.\n",
    "    * at the end if value not found than return not found message"
   ]
  },
  {
   "cell_type": "code",
   "execution_count": 6,
   "metadata": {},
   "outputs": [],
   "source": [
    "def find(search_list, value):\n",
    "    # The array, a, must be sorted from low to high\n",
    "    lo = 0\n",
    "    hi = len(search_list) - 1\n",
    "\n",
    "\n",
    "    while lo <= hi:\n",
    "        mid = lo + (hi - lo) // 2\n",
    "\n",
    "        if   search_list[mid] == value:  return mid\n",
    "        elif search_list[mid] <  value: lo = mid + 1\n",
    "        else:                           hi = mid - 1\n",
    "\n",
    "\n",
    "    return (\"value not in search_list.\")"
   ]
  },
  {
   "cell_type": "code",
   "execution_count": 3,
   "metadata": {},
   "outputs": [
    {
     "data": {
      "text/plain": [
       "[60, 81, 32, 74, 94, 27, 31, 2, 48, 45, 66, 60, 12, 28, 30, 24, 95, 71, 26, 11]"
      ]
     },
     "execution_count": 3,
     "metadata": {},
     "output_type": "execute_result"
    }
   ],
   "source": [
    "import random \n",
    "A = [random.randrange(0, 100) for x in range(20)]\n",
    "A"
   ]
  },
  {
   "cell_type": "code",
   "execution_count": 8,
   "metadata": {},
   "outputs": [
    {
     "data": {
      "text/plain": [
       "'value not in search_list.'"
      ]
     },
     "execution_count": 8,
     "metadata": {},
     "output_type": "execute_result"
    }
   ],
   "source": [
    "find(A, 48)"
   ]
  },
  {
   "cell_type": "code",
   "execution_count": null,
   "metadata": {},
   "outputs": [],
   "source": []
  },
  {
   "cell_type": "markdown",
   "metadata": {},
   "source": [
    "Links to help you practicing python\n",
    "* https://checkio.org/"
   ]
  }
 ],
 "metadata": {
  "kernelspec": {
   "display_name": "Python 3",
   "language": "python",
   "name": "python3"
  },
  "language_info": {
   "codemirror_mode": {
    "name": "ipython",
    "version": 3
   },
   "file_extension": ".py",
   "mimetype": "text/x-python",
   "name": "python",
   "nbconvert_exporter": "python",
   "pygments_lexer": "ipython3",
   "version": "3.6.9"
  }
 },
 "nbformat": 4,
 "nbformat_minor": 2
}
