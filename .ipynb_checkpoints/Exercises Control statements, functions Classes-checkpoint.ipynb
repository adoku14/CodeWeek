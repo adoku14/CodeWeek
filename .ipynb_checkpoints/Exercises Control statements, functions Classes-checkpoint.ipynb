{
 "cells": [
  {
   "cell_type": "markdown",
   "metadata": {},
   "source": [
    "# Exercises on Control statements, functions and Classes in python"
   ]
  },
  {
   "cell_type": "markdown",
   "metadata": {},
   "source": [
    "<b>Exercise 1: </b> Write a Python program which accepts the radius of a circle from the user and compute the area.\n",
    "\n",
    "r = 1.1\n",
    "\n",
    "Area = 3.8013271108436504\n",
    "\n",
    "formula = πr2 where π ~ 3.14"
   ]
  },
  {
   "cell_type": "code",
   "execution_count": null,
   "metadata": {},
   "outputs": [],
   "source": [
    "### Start your code here ###\n",
    "import math\n",
    "def compute(radius):\n",
    "#     return 3.14 * radius**2\n",
    "    return math.pi * math.pow(radius,2)\n"
   ]
  },
  {
   "cell_type": "code",
   "execution_count": null,
   "metadata": {},
   "outputs": [],
   "source": [
    "compute(5)"
   ]
  },
  {
   "cell_type": "markdown",
   "metadata": {},
   "source": [
    "<b> Exercise 2:</b> Control statements <br>\n",
    "Take a list for example:\n",
    "a = [1, 1, 2, 3, 5, 8, 13, 21, 34, 55, 89] and write a program to print out all the elements of the list that are less than 5. \n",
    "\n",
    "extras:\n",
    "task 1: Instead of printing the elements one by one, make a new list that has all the elements less than 5 from this list in it and printout this new list. \n",
    "task 2: Ask the user for a number and return a list that contains only elements from the original list a that are smaller than that number given by the user.  \n",
    "\n"
   ]
  },
  {
   "cell_type": "code",
   "execution_count": null,
   "metadata": {},
   "outputs": [],
   "source": [
    "### start you code here ###\n",
    "a = [1, 1, 2, 3, 5, 8, 13, 21, 34, 55, 89]\n",
    "new_list = []\n",
    "input_user = input('Please provide me a number')))\n",
    "input_user = int(input_user)\n",
    "\n",
    "for nr in a:\n",
    "    if nr < input_user:\n",
    "        new_list.append(nr)\n",
    "    else:\n",
    "        pass\n",
    "#         print('this number is bigger than 5')\n",
    "new_list"
   ]
  },
  {
   "cell_type": "markdown",
   "metadata": {},
   "source": [
    "<b> Exercise 3: </b>\n",
    "\n",
    "An Armstrong number is a number that is the sum of its own digits each raised to the power of the number of digits.\n",
    "\n",
    "For example:\n",
    "\n",
    "9 is an Armstrong number, because 9 = 9^1 = 9\n",
    "\n",
    "10 is not an Armstrong number, because 10 != 1^2 + 0^2 = 1\n",
    "\n",
    "153 is an Armstrong number, because: 153 = 1^3 + 5^3 + 3^3 = 1 + 125 + 27 = 153\n",
    "\n",
    "154 is not an Armstrong number, because: 154 != 1^3 + 5^3 + 4^3 = 1 + 125 + 64 = 190\n",
    "\n",
    "Write some code to determine whether a number is an Armstrong number.\n",
    "    "
   ]
  },
  {
   "cell_type": "code",
   "execution_count": null,
   "metadata": {},
   "outputs": [],
   "source": [
    "#1200 -> power_nr = 4, 1**4 + 2**4 + 0**4\n",
    "def isAmstrong(number):\n",
    "    str_number = str(number)\n",
    "    power_nr = len(str_number)\n",
    "    result = 0\n",
    "    for digit in str_number:\n",
    "        result += int(digit)**power_nr\n",
    "    if result == number:\n",
    "        return f\"this {number} is an Amstrong number\"\n",
    "    else:\n",
    "        print f\"this {number} is not an Amstrong number\"\n",
    "result = isAmstrong(154)\n",
    "print(result)\n"
   ]
  },
  {
   "cell_type": "markdown",
   "metadata": {},
   "source": [
    "<b> Exercise 4:</b> Control statements <br>\n",
    "\n",
    "Hangman game\n",
    "\n",
    "Let’s continue building Hangman. In the game of Hangman, a clue word is given by the program that the player has to guess, letter by letter. The player guesses one letter at a time until the entire word has been guessed. (In the actual game, the player can only guess 6 letters incorrectly before losing).\n",
    "\n",
    "Let’s say the word the player has to guess is “EVAPORATE”. For this exercise, write the logic that asks a player to guess a letter and displays letters in the clue word that were guessed correctly. For now, let the player guess an infinite number of times until they get the entire word. As a bonus, keep track of the letters the player guessed and display a different message if the player tries to guess that letter again. Remember to stop the game when all the letters have been guessed correctly! Don’t worry about choosing a word randomly or keeping track of the number of guesses the player has remaining - we will deal with those in a future exercise.\n",
    "\n",
    "An example interaction can look like this:\n",
    "\n",
    " Welcome to Hangman!<br>\n",
    "_ _ _ _ _ _ _ _ _<br>\n",
    " Guess your letter: S<br>\n",
    "Incorrect!<br>\n",
    " Guess your letter: E<br>\n",
    "E _ _ _ _ _ _ _ E<br>\n",
    "...<br>\n",
    "And so on, until the player gets the word. "
   ]
  },
  {
   "cell_type": "code",
   "execution_count": 7,
   "metadata": {},
   "outputs": [
    {
     "data": {
      "text/plain": [
       "[2, 5]"
      ]
     },
     "execution_count": 7,
     "metadata": {},
     "output_type": "execute_result"
    }
   ],
   "source": [
    "\n",
    "word = 'Calculate'\n",
    "word_lower = word.lower()\n",
    "word_list = list(word_lower)\n",
    "[x for x in range(len(word_list)) if word_list[x] == 'a']\n",
    "new_list = []\n",
    "for x in range(len(word_list)):\n",
    "    if word_list[x] == 'l':\n",
    "        new_list.append(x)\n",
    "        \n",
    "new_list"
   ]
  },
  {
   "cell_type": "code",
   "execution_count": 9,
   "metadata": {},
   "outputs": [
    {
     "name": "stdout",
     "output_type": "stream",
     "text": [
      "Guess a letterA\n",
      "Correct!\n",
      "['_', 'a', '_', '_', '_', '_', 'a', '_', '_']\n",
      "Guess a letterC\n",
      "Correct!\n",
      "['c', 'a', '_', 'c', '_', '_', 'a', '_', '_']\n",
      "Guess a letterH\n",
      "This is not correct!\n",
      "Guess a letterL\n",
      "Correct!\n",
      "['c', 'a', 'l', 'c', '_', 'l', 'a', '_', '_']\n",
      "Guess a letteru\n",
      "Correct!\n",
      "['c', 'a', 'l', 'c', 'u', 'l', 'a', '_', '_']\n",
      "Guess a lettert\n",
      "Correct!\n",
      "['c', 'a', 'l', 'c', 'u', 'l', 'a', 't', '_']\n",
      "Guess a lettere\n",
      "Correct!\n",
      "['c', 'a', 'l', 'c', 'u', 'l', 'a', 't', 'e']\n"
     ]
    }
   ],
   "source": [
    "word = 'Calculate'\n",
    "word_lower = word.lower()\n",
    "word_list = list(word_lower)\n",
    "input_word = ['_' for x in range(len(word))]\n",
    "\n",
    "while ''.join(input_word) != word_lower:\n",
    "    input_letter = input('Guess a letter')\n",
    "    input_letter = input_letter.lower()\n",
    "    \n",
    "    if input_letter in word_list:\n",
    "#         index_letter = word_list.index(input_letter)\n",
    "        index_letter = [x for x in range(len(word_list)) if word_list[x] == input_letter]\n",
    "        for i in index_letter:\n",
    "            word_list[i] = '@'\n",
    "            input_word[i] = input_letter\n",
    "        print('Correct!')\n",
    "        print(input_word)\n",
    "    else:\n",
    "        print('This is not correct!')\n",
    "        \n",
    "    "
   ]
  },
  {
   "cell_type": "code",
   "execution_count": null,
   "metadata": {},
   "outputs": [],
   "source": []
  },
  {
   "cell_type": "markdown",
   "metadata": {},
   "source": [
    "<b> Exercise 3:</b> Functions <br>\n",
    "Implement a function that takes as input three variables, and returns the largest of the three. Do this without using the Python max() function!\n",
    "\n",
    "The goal of this exercise is to think about some internals that Python normally takes care of for us. All you need is some variables and if statements!"
   ]
  },
  {
   "cell_type": "code",
   "execution_count": null,
   "metadata": {},
   "outputs": [],
   "source": []
  },
  {
   "cell_type": "code",
   "execution_count": null,
   "metadata": {},
   "outputs": [],
   "source": []
  },
  {
   "cell_type": "code",
   "execution_count": null,
   "metadata": {},
   "outputs": [],
   "source": []
  },
  {
   "cell_type": "markdown",
   "metadata": {},
   "source": [
    "<b> Exercise 5:</b> Functions & Classes<br>\n",
    "\n",
    "Make a two-player Rock-Paper-Scissors game. (Hint: Ask for player plays (using input), compare them, print out a message of congratulations to the winner, and ask if the players want to start a new game). For the person you should create a class with the following variables, name and choice. When asking the user for input you should start creating user profile. \n",
    "The result will be the winner.\n",
    "\n",
    "Remember the rules:\n",
    "\n",
    "- Rock beats scissors\n",
    "- Scissors beats paper\n",
    "- Paper beats rock"
   ]
  },
  {
   "cell_type": "code",
   "execution_count": null,
   "metadata": {},
   "outputs": [],
   "source": [
    "### Start Your Code here ###\n",
    "#start by creating the class first.\n",
    "class Player:\n",
    "    \n",
    "    def __init__(self, name):\n",
    "        self.name = name\n",
    "        self.choice = ''\n",
    "    \n",
    "    def update_choice(self, choice):\n",
    "        self.choice  = choice\n",
    "    def getChoice():\n",
    "        return self.choice\n",
    "        \n"
   ]
  },
  {
   "cell_type": "code",
   "execution_count": null,
   "metadata": {},
   "outputs": [],
   "source": [
    "def compare(choice_1, choice_2):\n",
    "    pass\n",
    "    #write the function to compare the inputs and return the winner"
   ]
  },
  {
   "cell_type": "code",
   "execution_count": null,
   "metadata": {},
   "outputs": [],
   "source": [
    "\n"
   ]
  },
  {
   "cell_type": "markdown",
   "metadata": {},
   "source": [
    "<b> Exercise 6: </b> Read/Write to file\n",
    "\n",
    "Write a Python program to count the frequency of words in a file. \n",
    "After you have done this, you write back to file top 10 most frequent words.\n"
   ]
  },
  {
   "cell_type": "code",
   "execution_count": null,
   "metadata": {},
   "outputs": [],
   "source": [
    "from collections import Counter"
   ]
  }
 ],
 "metadata": {
  "kernelspec": {
   "display_name": "Python 3",
   "language": "python",
   "name": "python3"
  },
  "language_info": {
   "codemirror_mode": {
    "name": "ipython",
    "version": 3
   },
   "file_extension": ".py",
   "mimetype": "text/x-python",
   "name": "python",
   "nbconvert_exporter": "python",
   "pygments_lexer": "ipython3",
   "version": "3.6.9"
  }
 },
 "nbformat": 4,
 "nbformat_minor": 2
}
