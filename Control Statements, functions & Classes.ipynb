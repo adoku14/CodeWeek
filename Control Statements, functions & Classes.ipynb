{
 "cells": [
  {
   "cell_type": "markdown",
   "metadata": {},
   "source": [
    "# Control Statements, functions and Classes\n",
    "\n",
    "In this Jupyter Notebook we are going to explain control statements (for loops, if/elif/else, while), functions and Classes\n",
    "\n",
    "* <b>for loops:</b> a for loop is used to iterrate through a sequence of values (list, dict, set etc.)\n",
    "* <b> if/elif/else: </b> are used as logical conditions from math.\n",
    "    <ul>\n",
    "        <li>- Equals: == </li>\n",
    "        <li>- Not Equals: != </li>\n",
    "        <li>- Less than: < </li>\n",
    "        <li>- Greater than: >  </li>\n",
    "        <li>- greater/smaller or equal than >= / <= </li>\n",
    "    </ul>\n",
    "* <b> While loop: </b> Used to execute a set of statements untill the condition becomes true. \n",
    "   \n",
    "<b> Function:  </b>\n",
    "As already discussed, the function is a block of code which runs whenever is called. you can pass parameters as defined, or data, and based on that it will return data as a result. \n",
    "\n",
    "<b> Classes: </b> \n",
    "Python classes provide all the standard features of OOP (Object Oriented Programming) like inheritance (a derived class can override any methods of its base case or classes, and a method can call the method of a base class with the same name). Basically, Classes are also called objects which are an encapsulation of variable and functions into a single entity. Objects can get their variable and functions from class and its not more than a template for an Object.\n"
   ]
  },
  {
   "cell_type": "markdown",
   "metadata": {},
   "source": [
    "## 1. Control Statement"
   ]
  },
  {
   "cell_type": "markdown",
   "metadata": {},
   "source": [
    "### 1. For loops"
   ]
  },
  {
   "cell_type": "code",
   "execution_count": null,
   "metadata": {},
   "outputs": [],
   "source": [
    "import random \n",
    "a = [random.randrange(-100, 100, 1) for x in range(10)] # this usage of for loop is called pythonic way\n",
    "a"
   ]
  },
  {
   "cell_type": "code",
   "execution_count": null,
   "metadata": {},
   "outputs": [],
   "source": [
    "for number in a :\n",
    "    print(number)"
   ]
  },
  {
   "cell_type": "code",
   "execution_count": null,
   "metadata": {},
   "outputs": [],
   "source": [
    "for i in range(0, len(a)):\n",
    "    print(a[i])"
   ]
  },
  {
   "cell_type": "code",
   "execution_count": null,
   "metadata": {},
   "outputs": [],
   "source": [
    "# Generally the foor loop block will be executed to the end (in this case also print statement should be executed).\n",
    "# However, if we say whenever the number is smaller than 0 continue, it will stop the current iteration and \n",
    "# will go to the next number in the list (so print statement will not be executed.) Otherwise, it will be printed\n",
    "for number in a:\n",
    "    if number < 0:\n",
    "#         continue\n",
    "        print(number)\n",
    "    else:\n",
    "        print(number)\n",
    "print('reached the end')"
   ]
  },
  {
   "cell_type": "code",
   "execution_count": null,
   "metadata": {},
   "outputs": [],
   "source": [
    "for fruit in ['banana', 'apple', 'orange']:\n",
    "    for client in ['x', 'y', 'z']:\n",
    "        print(client, fruit)"
   ]
  },
  {
   "cell_type": "markdown",
   "metadata": {},
   "source": [
    "### 2.If/elif/else"
   ]
  },
  {
   "cell_type": "code",
   "execution_count": null,
   "metadata": {},
   "outputs": [],
   "source": [
    "for fruit in ['orange', 'apple', 'banana']:\n",
    "    if fruit is 'banana':\n",
    "        print('fruit is ', fruit)\n",
    "    elif fruit is 'apple':\n",
    "        print('fruit is ', fruit)\n",
    "    else:\n",
    "        print('fruit is ', fruit)"
   ]
  },
  {
   "cell_type": "code",
   "execution_count": null,
   "metadata": {},
   "outputs": [],
   "source": [
    "a = 200\n",
    "b = 33\n",
    "if b > a:\n",
    "  print(\"b is greater than a\")\n",
    "elif a == b:\n",
    "  print(\"a and b are equal\")\n",
    "else:\n",
    "  print(\"a is greater than b\")\n"
   ]
  },
  {
   "cell_type": "markdown",
   "metadata": {},
   "source": [
    "### 3.While loop\n"
   ]
  },
  {
   "cell_type": "code",
   "execution_count": null,
   "metadata": {},
   "outputs": [],
   "source": [
    "i = 0 \n",
    "while i < 20:\n",
    "    i += 1\n",
    "#     i = i + 1\n",
    "    if i == 5:\n",
    "        print('i is at ', i)\n",
    "    elif i > 10:\n",
    "        print('i is at ', i)\n",
    "    else:\n",
    "        print('pass')\n",
    "        pass\n",
    "    \n",
    "print(i)"
   ]
  },
  {
   "cell_type": "markdown",
   "metadata": {},
   "source": [
    "## 2. Functions\n"
   ]
  },
  {
   "cell_type": "code",
   "execution_count": null,
   "metadata": {},
   "outputs": [],
   "source": [
    "def myfunction(): #declaring the function\n",
    "    return \"this is my first function in python\"\n",
    "\n",
    "myfunction() #calling the function"
   ]
  },
  {
   "cell_type": "code",
   "execution_count": null,
   "metadata": {},
   "outputs": [],
   "source": [
    "x = 'John'\n",
    "def getName(fname):\n",
    "    return ('The name written is ' + x)\n",
    "\n",
    "print(getName('John'))\n",
    "print(getName('Bart'))\n",
    "print(getName('Olivier'))\n",
    "# print(getName(5))"
   ]
  },
  {
   "cell_type": "code",
   "execution_count": null,
   "metadata": {},
   "outputs": [],
   "source": [
    "def run(input_list:int):\n",
    "    for x in input_list:\n",
    "        print(x)\n",
    "\n",
    "a = [1, 2, 3]\n",
    "run(a)"
   ]
  },
  {
   "cell_type": "code",
   "execution_count": null,
   "metadata": {},
   "outputs": [],
   "source": [
    "def my_function(x):\n",
    "    return x**2\n",
    "\n",
    "print(my_function(5))\n",
    "print(my_function(3))\n",
    "print(my_function(7))"
   ]
  },
  {
   "cell_type": "code",
   "execution_count": null,
   "metadata": {},
   "outputs": [],
   "source": [
    "#recursion functions are functions that call themself till a condition is satisfied. \n",
    "def recursive(k):\n",
    "    if k < 10:\n",
    "        \n",
    "        result = k + recursive(k+1)\n",
    "        print('k',k)\n",
    "        print('result',result)\n",
    "    else:\n",
    "        result = 0\n",
    "    return result\n",
    "        \n",
    "print(\"\\n\\nRecursion Example Results\")\n",
    "recursive(6)"
   ]
  },
  {
   "cell_type": "markdown",
   "metadata": {},
   "source": [
    "# 3. Classes\n"
   ]
  },
  {
   "cell_type": "code",
   "execution_count": null,
   "metadata": {},
   "outputs": [],
   "source": [
    "class Person:\n",
    "    \n",
    "    def __init__(self,name, surname, email):\n",
    "        self.name = name\n",
    "        self.surname = surname\n",
    "        self.email = email\n",
    "        \n",
    "    def getName(self):\n",
    "        return self.name\n",
    "    \n",
    "    def getSurname(self):\n",
    "        return self.surname\n",
    "    \n",
    "    def getEmail(self):\n",
    "        return self.email\n",
    "    \n",
    "person = Person(surname = 'Doku',name='Ali',  email = 'ali.doku@arinti.ai')\n",
    "person = Person(name= 'Ali', surname='Doku', email='ali.doku@arinti.ai')\n",
    "print('Name: ', person.getName())\n",
    "print('Surname: ', person.getSurname())\n",
    "print('Email: ', person.getEmail())\n",
    "\n"
   ]
  },
  {
   "cell_type": "code",
   "execution_count": null,
   "metadata": {},
   "outputs": [],
   "source": [
    "print(person.name, person.surname, person.email)"
   ]
  },
  {
   "cell_type": "code",
   "execution_count": null,
   "metadata": {},
   "outputs": [],
   "source": [
    "#you can also delete variables from class. \n",
    "del person.email"
   ]
  },
  {
   "cell_type": "code",
   "execution_count": null,
   "metadata": {},
   "outputs": [],
   "source": [
    "person.email"
   ]
  },
  {
   "cell_type": "markdown",
   "metadata": {},
   "source": [
    "# Deploying Web Application using Flask"
   ]
  },
  {
   "cell_type": "markdown",
   "metadata": {},
   "source": [
    "Flask is a web application framework written in Python. Armin Ronacher, who leads an international group of Python enthusiasts named Pocco, develops it. Flask is based on Werkzeug WSGI toolkit and Jinja2 template engine. Both are Pocco projects.\n",
    "\n",
    "Flask is flexible. It doesn’t require you to use any particular project or code layout.\n",
    "Let's have a look at this example"
   ]
  },
  {
   "cell_type": "markdown",
   "metadata": {},
   "source": [
    "A fibonacci sequence is the integer sequence 0,1,1,2,3,5,8,13,21 ....\n",
    "The first two numbers are 0 and 1. All other numbers are obtained by adding the preceding two numbers.Therefore, the nth term is the sum of (n-1)th and (n-2)th term."
   ]
  },
  {
   "cell_type": "code",
   "execution_count": 1,
   "metadata": {},
   "outputs": [
    {
     "data": {
      "text/plain": [
       "[0, 1, 1, 2, 3, 5, 8, 13, 21, 34, 55, 89, 144, 233, 377, 610, 987, 1597, 2584]"
      ]
     },
     "execution_count": 1,
     "metadata": {},
     "output_type": "execute_result"
    }
   ],
   "source": [
    "def fibonacci(n:int):\n",
    "    if n<0: \n",
    "        print(\"Incorrect input\") \n",
    "    # First Fibonacci number is 0 \n",
    "    elif n == 0:\n",
    "        return 0\n",
    "    elif n==1: \n",
    "        return 0\n",
    "    # Second Fibonacci number is 1 \n",
    "    elif n==2: \n",
    "        return 1\n",
    "    else: \n",
    "        return fibonacci(n-1)+fibonacci(n-2)\n",
    "    \n",
    "def run_fibonacci(n:int):\n",
    "    sequence = []\n",
    "    \n",
    "    for i in range(1, n):\n",
    "        sequence.append(fibonacci(i))\n",
    "        \n",
    "    return sequence\n",
    "\n",
    "run_fibonacci(20)"
   ]
  },
  {
   "cell_type": "code",
   "execution_count": null,
   "metadata": {},
   "outputs": [
    {
     "name": "stdout",
     "output_type": "stream",
     "text": [
      " * Serving Flask app \"__main__\" (lazy loading)\n",
      " * Environment: production\n",
      "   WARNING: This is a development server. Do not use it in a production deployment.\n",
      "   Use a production WSGI server instead.\n",
      " * Debug mode: off\n"
     ]
    },
    {
     "name": "stderr",
     "output_type": "stream",
     "text": [
      " * Running on http://0.0.0.0:5000/ (Press CTRL+C to quit)\n",
      "127.0.0.1 - - [17/Oct/2019 17:37:51] \"\u001b[37mGET / HTTP/1.1\u001b[0m\" 200 -\n",
      "127.0.0.1 - - [17/Oct/2019 17:37:54] \"\u001b[1m\u001b[31mGET /fibo?value=20 HTTP/1.1\u001b[0m\" 400 -\n"
     ]
    }
   ],
   "source": [
    "from flask import Flask, request, render_template, json\n",
    "import requests\n",
    "\n",
    "app = Flask(__name__, static_folder='.', template_folder='.')\n",
    "\n",
    "@app.route('/', methods=['GET'])\n",
    "def index():\n",
    "    '''\n",
    "        index page where a csv file can be uploaded.\n",
    "\n",
    "    :return: index page\n",
    "    '''\n",
    "    return render_template('index.html')\n",
    "\n",
    "@app.route('/fibo', methods=['POST', 'GET'])\n",
    "def fibo():\n",
    "    number = request.form['value']\n",
    "    print(number)\n",
    "    sequence = run_fibonacci(int(number))\n",
    "    return json.dumps({'answer': sequence})\n",
    "\n",
    "@app.route('/isAlive', methods=['POST', 'GET'])\n",
    "def isAlive():\n",
    "    '''\n",
    "        test the application if it is alive or not.\n",
    "\n",
    "    :return: message if the web app is online\n",
    "    '''\n",
    "    return \"Yes I am alive and Happy :)))\";\n",
    "\n",
    "if __name__ == '__main__':\n",
    "    app.run(debug=False, threaded=True, host='0.0.0.0', port=5000)"
   ]
  },
  {
   "cell_type": "code",
   "execution_count": null,
   "metadata": {},
   "outputs": [],
   "source": []
  }
 ],
 "metadata": {
  "kernelspec": {
   "display_name": "Python 3",
   "language": "python",
   "name": "python3"
  },
  "language_info": {
   "codemirror_mode": {
    "name": "ipython",
    "version": 3
   },
   "file_extension": ".py",
   "mimetype": "text/x-python",
   "name": "python",
   "nbconvert_exporter": "python",
   "pygments_lexer": "ipython3",
   "version": "3.6.9"
  }
 },
 "nbformat": 4,
 "nbformat_minor": 2
}
