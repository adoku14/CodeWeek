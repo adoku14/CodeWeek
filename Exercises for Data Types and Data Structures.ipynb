{
 "cells": [
  {
   "cell_type": "markdown",
   "metadata": {},
   "source": [
    "# Python exercises for primitive and non-primitive data Types\n"
   ]
  },
  {
   "cell_type": "markdown",
   "metadata": {},
   "source": [
    "## 1. Primitive Data Types"
   ]
  },
  {
   "cell_type": "markdown",
   "metadata": {},
   "source": [
    "The first exercise is related to string primitive type. \n",
    "\n",
    "Create a program that asks the user to enter information like name, surname, address and age and some information about itself.\n",
    "\n",
    "task 1: given the name and surname, join 2 string into 1 string. For example, name = Ali and Surname = Doku -> joined string is Ali Doku.\n",
    "\n",
    "task:2: search for a specific word in the information that is provided. If found print the index of this string. else print ('not found')\n",
    "\n",
    "task 3: split the address into street name, house number, and city.\n",
    "\n",
    "task 4: check if the person is alread adult(+18) or not. you can use boolean types for comparison\n",
    "\n",
    "Hint: \n",
    "1- to activate user input use input() function.\n",
    "2- remember find() function properties."
   ]
  },
  {
   "cell_type": "code",
   "execution_count": 1,
   "metadata": {},
   "outputs": [
    {
     "name": "stdout",
     "output_type": "stream",
     "text": [
      "enter the nameali\n",
      "enter the surnamedokui\n",
      "enter the addressDoornelei 2018 Antwerpen\n",
      "enter the age25\n",
      "enter the infoData Scientist\n"
     ]
    }
   ],
   "source": [
    "### Start you code here ###\n",
    "\n",
    "# 1. ask the user to input the information\n",
    "name = input('enter the name')\n",
    "surname = input('enter the surname')\n",
    "address = input('enter the address')\n",
    "age = input('enter the age')\n",
    "information = input('enter the info')\n",
    "\n"
   ]
  },
  {
   "cell_type": "code",
   "execution_count": 14,
   "metadata": {},
   "outputs": [
    {
     "name": "stdout",
     "output_type": "stream",
     "text": [
      "ali dokui\n"
     ]
    },
    {
     "data": {
      "text/plain": [
       "{'street': 'Doornelei', 'code_postal': '2018', 'city': 'Antwerpen'}"
      ]
     },
     "execution_count": 14,
     "metadata": {},
     "output_type": "execute_result"
    }
   ],
   "source": [
    "#task 1\n",
    "print(name + ' ' + surname)\n",
    "\n",
    "#task 2\n",
    "information.find('Scientist')\n",
    "\n",
    "#split the address into street name, house number and city. Use a dictionary to save them.\n",
    "address_list = address.split(' ')\n",
    "\n",
    "di = dict()\n",
    "di['street'] = address_list[0]\n",
    "di['code_postal'] = address_list[1]\n",
    "di['city'] = address_list[2]\n",
    "di\n",
    "\n"
   ]
  },
  {
   "cell_type": "code",
   "execution_count": 20,
   "metadata": {},
   "outputs": [
    {
     "data": {
      "text/plain": [
       "True"
      ]
     },
     "execution_count": 20,
     "metadata": {},
     "output_type": "execute_result"
    }
   ],
   "source": [
    "age = int(age)\n",
    "age > 18"
   ]
  },
  {
   "cell_type": "code",
   "execution_count": null,
   "metadata": {},
   "outputs": [],
   "source": []
  },
  {
   "cell_type": "markdown",
   "metadata": {},
   "source": [
    "#### 2nd Exercise- Integer and float numbers\n",
    "\n",
    "Given a string, return the sum and average of the digits that appear in the string.\n",
    "task 1: return the sum and average of the digits\n",
    "task 2: print how many number are there. \n",
    "task 3: check if number 5 occurs in the list of string. \n",
    "task 4: Remove the duplicates.\n",
    "\n",
    "Hint:\n",
    "first split the long string. This will return a list of strings. then iterate through list by using for loops\n",
    "ex. for string in list:\n",
    "and take the sum of all numbers. \n",
    "check if number 5 occurs in the list of strings or not. \n",
    "\n"
   ]
  },
  {
   "cell_type": "code",
   "execution_count": 33,
   "metadata": {},
   "outputs": [
    {
     "name": "stdout",
     "output_type": "stream",
     "text": [
      "sum is: 333 and avg is 30.272727272727273\n",
      "sum is: 333 and avg is 30.272727272727273\n",
      "the length of the list is 11\n",
      "True\n",
      "True\n"
     ]
    },
    {
     "data": {
      "text/plain": [
       "[50, 100, 2, 6, 8, 9, 5, 4, 8, 55, 86]"
      ]
     },
     "execution_count": 33,
     "metadata": {},
     "output_type": "execute_result"
    }
   ],
   "source": [
    "string = '50,100,2,6,8,9,5,4,8,55,86'\n",
    "string_list = string.split(',')\n",
    "\n",
    "string_list = [int(x) for x in string_list]\n",
    "# for x in range(len(string_list)):\n",
    "#     string_list[x] = int(string_list[x])\n",
    "sum_of_numbers = sum(string_list)\n",
    "avg_of_numbers = sum_of_numbers/len(string_list)\n",
    "\n",
    "print('sum is: {} and avg is {}'.format(sum_of_numbers, avg_of_numbers))\n",
    "print(f'sum is: {sum_of_numbers} and avg is {avg_of_numbers}')\n",
    "\n",
    "print(f'the length of the list is {len(string_list)}')\n",
    "### start your code here ###\n",
    "print('5' in string)\n",
    "print(5 in string_list)\n",
    "\n",
    "string_list"
   ]
  },
  {
   "cell_type": "code",
   "execution_count": 36,
   "metadata": {},
   "outputs": [
    {
     "data": {
      "text/plain": [
       "{2, 4, 5, 6, 8, 9, 50, 55, 86, 90, 100}"
      ]
     },
     "execution_count": 36,
     "metadata": {},
     "output_type": "execute_result"
    }
   ],
   "source": [
    "set_list = set(string_list)\n",
    "set_list.add(90)\n",
    "set_list"
   ]
  },
  {
   "cell_type": "markdown",
   "metadata": {},
   "source": [
    "#### 3rd exercise Non-primitive data types\n",
    "\n",
    "We randomly have created 2 integer lists, containing positive and negative integers. the tasks are:\n",
    "task 1: find the intersection fo these lists. \n",
    "task 2: union these lists.\n",
    "task 3: using the dictionary already created, you have to categorize the union list(from task 2) into positive and negative integers.\n",
    "task 4: print the length of positive and negative numbers. Hint: use len() to find the length of a list or you can use Counter(). "
   ]
  },
  {
   "cell_type": "code",
   "execution_count": 37,
   "metadata": {
    "scrolled": true
   },
   "outputs": [
    {
     "data": {
      "text/plain": [
       "([-6, 18, 17, 13, -5, 14, 12, -14, -11, -3, -16, 16, 16, -3, -9],\n",
       " [7, -6, 14, 7, -9, 6, 5, 6, -11, 10, -3, 0, 10, 0, 0])"
      ]
     },
     "execution_count": 37,
     "metadata": {},
     "output_type": "execute_result"
    }
   ],
   "source": [
    "import random\n",
    "a = [random.randrange(-20, 20, 1) for x in range(15)]\n",
    "b = [random.randrange(-20, 20, 1) for x in range(15)]\n",
    "a, b"
   ]
  },
  {
   "cell_type": "code",
   "execution_count": 38,
   "metadata": {},
   "outputs": [
    {
     "data": {
      "text/plain": [
       "{-11, -9, -6, -3, 14}"
      ]
     },
     "execution_count": 38,
     "metadata": {},
     "output_type": "execute_result"
    }
   ],
   "source": [
    "# find the intersection\n",
    "a = set(a)\n",
    "b = set(b)\n",
    "a.intersection(b)"
   ]
  },
  {
   "cell_type": "code",
   "execution_count": 39,
   "metadata": {},
   "outputs": [
    {
     "data": {
      "text/plain": [
       "{-16, -14, -11, -9, -6, -5, -3, 0, 5, 6, 7, 10, 12, 13, 14, 16, 17, 18}"
      ]
     },
     "execution_count": 39,
     "metadata": {},
     "output_type": "execute_result"
    }
   ],
   "source": [
    "# union the lists\n",
    "a.union(b)"
   ]
  },
  {
   "cell_type": "code",
   "execution_count": 49,
   "metadata": {},
   "outputs": [
    {
     "data": {
      "text/plain": [
       "range(0, 20)"
      ]
     },
     "execution_count": 49,
     "metadata": {},
     "output_type": "execute_result"
    }
   ],
   "source": [
    "range(0, 20)"
   ]
  },
  {
   "cell_type": "code",
   "execution_count": 41,
   "metadata": {},
   "outputs": [
    {
     "data": {
      "text/plain": [
       "{'positive': [12, 13, 14, 17, 18, 16, 0, 5, 6, 7, 10, 14],\n",
       " 'negative': [-16, -14, -11, -9, -6, -5, -3, -11, -9, -6, -3]}"
      ]
     },
     "execution_count": 41,
     "metadata": {},
     "output_type": "execute_result"
    }
   ],
   "source": [
    "# using the dict, categorize the numbers into positive and negative\n",
    "category = {'positive': [],\n",
    "            'negative': []}\n",
    "\n",
    "\n",
    "for i in a:\n",
    "    if i >= 0:\n",
    "        a_list = category['positive']\n",
    "        a_list.append(i)\n",
    "    else:\n",
    "        category['negative'].append(i)\n",
    "        \n",
    "for i in b:\n",
    "    if i >= 0:\n",
    "        category['positive'].append(i)\n",
    "    else:\n",
    "        category['negative'].append(i)\n",
    "category"
   ]
  },
  {
   "cell_type": "code",
   "execution_count": 45,
   "metadata": {},
   "outputs": [],
   "source": [
    "category['new'] = [1, 2, 3, 4,5]\n",
    "category['string'] = 'this is a test'"
   ]
  },
  {
   "cell_type": "code",
   "execution_count": 46,
   "metadata": {},
   "outputs": [
    {
     "data": {
      "text/plain": [
       "{'positive': [12, 13, 14, 17, 18, 16, 0, 5, 6, 7, 10, 14],\n",
       " 'negative': [-16, -14, -11, -9, -6, -5, -3, -11, -9, -6, -3],\n",
       " 'new': [1, 2, 3, 4, 5],\n",
       " 'string': 'this is a test'}"
      ]
     },
     "execution_count": 46,
     "metadata": {},
     "output_type": "execute_result"
    }
   ],
   "source": [
    "category"
   ]
  },
  {
   "cell_type": "code",
   "execution_count": 42,
   "metadata": {},
   "outputs": [
    {
     "data": {
      "text/plain": [
       "(12, 11)"
      ]
     },
     "execution_count": 42,
     "metadata": {},
     "output_type": "execute_result"
    }
   ],
   "source": [
    "len(category['positive']), len(category['negative'])"
   ]
  },
  {
   "cell_type": "code",
   "execution_count": 7,
   "metadata": {},
   "outputs": [],
   "source": [
    "# print the length of positive number and negative numbers. \n"
   ]
  },
  {
   "cell_type": "code",
   "execution_count": null,
   "metadata": {},
   "outputs": [],
   "source": []
  },
  {
   "cell_type": "markdown",
   "metadata": {},
   "source": [
    "<b>4th exercise: </b> Dictionaries\n",
    "\n",
    "Write a Python script to generate and print a dictionary that contains a number (between 1 and n) in the form (x, x*x)\n",
    "\n",
    "Sample Dictionary ( n = 5) :\n",
    "Expected Output : {1: 1, 2: 4, 3: 9, 4: 16, 5: 25}"
   ]
  },
  {
   "cell_type": "code",
   "execution_count": 48,
   "metadata": {},
   "outputs": [
    {
     "data": {
      "text/plain": [
       "{1: 1, 2: 4, 3: 9, 4: 16, 5: 25}"
      ]
     },
     "execution_count": 48,
     "metadata": {},
     "output_type": "execute_result"
    }
   ],
   "source": [
    "import math\n",
    "di = dict()\n",
    "for x in range(1, 6):\n",
    "    di[x] = int(math.pow(x, 2))\n",
    "    for i in range(0, 6):    \n",
    "di"
   ]
  },
  {
   "cell_type": "code",
   "execution_count": null,
   "metadata": {},
   "outputs": [],
   "source": []
  },
  {
   "cell_type": "markdown",
   "metadata": {},
   "source": [
    "<b> 5th Exercise </b> \n",
    "Remove duplicate from a list and find the minimum and maximum number\n"
   ]
  },
  {
   "cell_type": "code",
   "execution_count": 50,
   "metadata": {},
   "outputs": [
    {
     "name": "stdout",
     "output_type": "stream",
     "text": [
      "{65, 99, 41, 45, 87, 94}\n"
     ]
    }
   ],
   "source": [
    "sampleList = [87, 45, 41, 65, 94, 41, 99, 94]\n",
    "\n",
    "set_ = set(sampleList)\n",
    "print(set_)"
   ]
  },
  {
   "cell_type": "code",
   "execution_count": 51,
   "metadata": {},
   "outputs": [
    {
     "data": {
      "text/plain": [
       "(41, 99)"
      ]
     },
     "execution_count": 51,
     "metadata": {},
     "output_type": "execute_result"
    }
   ],
   "source": [
    "min(set_), max(set_)"
   ]
  },
  {
   "cell_type": "code",
   "execution_count": null,
   "metadata": {},
   "outputs": [],
   "source": []
  }
 ],
 "metadata": {
  "kernelspec": {
   "display_name": "Python 3",
   "language": "python",
   "name": "python3"
  },
  "language_info": {
   "codemirror_mode": {
    "name": "ipython",
    "version": 3
   },
   "file_extension": ".py",
   "mimetype": "text/x-python",
   "name": "python",
   "nbconvert_exporter": "python",
   "pygments_lexer": "ipython3",
   "version": "3.6.9"
  }
 },
 "nbformat": 4,
 "nbformat_minor": 2
}
