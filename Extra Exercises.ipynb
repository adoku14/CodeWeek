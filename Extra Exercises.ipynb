{
 "cells": [
  {
   "cell_type": "markdown",
   "metadata": {},
   "source": [
    "# Extra Exercises "
   ]
  },
  {
   "cell_type": "markdown",
   "metadata": {},
   "source": [
    "<b> Exercise 1: </b>Write a Python program to add the digits of a positive integer repeatedly until the result has a single digit. <br>\n",
    "Input : 48 <br>\n",
    "Output : 3<br>\n",
    "For example given number is 59, the result will be 5. <br>\n",
    "Step 1: 5 + 9 = 14<br>\n",
    "Step 1: 1 + 4 = 5"
   ]
  },
  {
   "cell_type": "code",
   "execution_count": null,
   "metadata": {},
   "outputs": [],
   "source": []
  },
  {
   "cell_type": "code",
   "execution_count": null,
   "metadata": {},
   "outputs": [],
   "source": []
  },
  {
   "cell_type": "markdown",
   "metadata": {},
   "source": [
    "<b> Exercise 2:</b>\n",
    " From Wikipedia - The Collatz conjecture is a conjecture in mathematics that concerns a sequence defined as follows: start with any positive integer n. Then each term is obtained from the previous term as follows: if the previous term is even, the next term is one half the previous term. If the previous term is odd, the next term is 3 times the previous term plus 1. The conjecture is that no matter what value of n, the sequence will always reach 1.\n",
    " So the tasks are:\n",
    "  * Choose a number n and print its sequence.\n",
    "  * Find a starting number, under ten thousand will create the longest chain (tip: need to count all the number for each sequence.).\n",
    " <br>\n",
    "\n",
    "Formula: <br>\n",
    "n --> n/2 (even) <br>\n",
    "n --> 3n + 1 (odd) <br>\n",
    "\n",
    "Examples: <br>\n",
    "12 -> 6 -> 3 -> 10 -> 5 -> 16 -> 8 -> 4 -> 2 -> 1\n",
    "\n",
    "If n = 19 the sequence will be:\n",
    "\n",
    "19 -> 58 -> 29 -> 88 -> 44 -> 22 -> 11 -> 34 -> 17 -> 52 -> 26 -> 13 -> 40 -> 20 -> 10 -> 10 -> 5 ->16 -> 8 -> 4 -> 2 -> 1"
   ]
  },
  {
   "cell_type": "code",
   "execution_count": null,
   "metadata": {},
   "outputs": [],
   "source": []
  },
  {
   "cell_type": "code",
   "execution_count": null,
   "metadata": {},
   "outputs": [],
   "source": []
  },
  {
   "cell_type": "markdown",
   "metadata": {},
   "source": [
    "<b> Exercise 3: </b>\n",
    "\n",
    "Tally the results of a small football competition.\n",
    "\n",
    "Based on an input file containing which team played against which and what the outcome was, create a file with a table like this:\n",
    "\n",
    "|Team                           | MP |  W |  D |  L |  P|\n",
    "| --- | --- | --- | --- | --- | --- | \n",
    "Devastating Donkeys            |  3 |  2 |  1 |  0 |  7\n",
    "Allegoric Alaskans             |  3 |  2 |  0 |  1 |  6\n",
    "Blithering Badgers             |  3 |  1 |  0 |  2 |  3\n",
    "Courageous Californians        |  3 |  0 |  1 |  2 |  1\n",
    "\n",
    "\n",
    "What do those abbreviations mean?\n",
    "\n",
    "\n",
    "|MP:| Matches Played|\n",
    "| --- | --- |\n",
    "|W: |Matches Won|\n",
    "|D: |Matches Drawn (Tied)|\n",
    "|L: |Matches Lost|\n",
    "|P: |Points|\n",
    "A win earns a team 3 points. A draw earns 1. A loss earns 0.\n",
    "\n",
    "The outcome should be ordered by points, descending. In case of a tie, teams are ordered alphabetically.\n",
    "\n",
    "Input\n",
    "\n",
    "Your tallying program will receive input that looks like:\n",
    "\n",
    "- Allegoric Alaskans;Blithering Badgers;win\n",
    "- Devastating Donkeys;Courageous Californians;draw\n",
    "- Devastating Donkeys;Allegoric Alaskans;win\n",
    "- Courageous Californians;Blithering Badgers;loss\n",
    "- Blithering Badgers;Devastating Donkeys;loss\n",
    "- Allegoric Alaskans;Courageous Californians;win\n",
    "- The result of the match refers to the first team listed. So this line\n",
    "\n",
    "- Allegoric Alaskans;Blithering Badgers;win\n",
    "\n",
    "Means that the Allegoric Alaskans beat the Blithering Badgers.\n",
    "\n",
    "This line:\n",
    "\n",
    "- Courageous Californians;Blithering Badgers;loss\n",
    "\n",
    "Means that the Blithering Badgers beat the Courageous Californians.\n",
    "\n",
    "And this line:\n",
    "\n",
    "- Devastating Donkeys;Courageous Californians;draw\n",
    "\n",
    "Means that the Devastating Donkeys and Courageous Californians tied."
   ]
  },
  {
   "cell_type": "code",
   "execution_count": null,
   "metadata": {},
   "outputs": [],
   "source": [
    "### start your code here ###\n",
    "# 1- Create a class to keep all the informations (name, wins, looses, draws, number of matches and points)\n",
    "\n",
    "\n",
    "        "
   ]
  },
  {
   "cell_type": "code",
   "execution_count": null,
   "metadata": {},
   "outputs": [],
   "source": [
    "#read the file and process it.\n",
    "teams = dict() # use this dictionary to keep track of teams which are already initialized.\n",
    "#for example if Blithering Badgers has already been used, retrive from dictionary.\n",
    "# the structure of dict will be name = team object class that you already have created above. \n",
    "\n",
    "#at the end you need to sort the dictionary based on points.\n",
    "\n",
    "#start your code here\n"
   ]
  },
  {
   "cell_type": "code",
   "execution_count": null,
   "metadata": {},
   "outputs": [],
   "source": []
  },
  {
   "cell_type": "code",
   "execution_count": null,
   "metadata": {},
   "outputs": [],
   "source": []
  },
  {
   "cell_type": "markdown",
   "metadata": {},
   "source": [
    "<b> Exercise 4: </b>\n",
    "\n",
    "Create an implementation of the rotational cipher, also sometimes called the Caesar cipher.\n",
    "\n",
    "The Caesar cipher is a simple shift cipher that relies on transposing all the letters in the alphabet using an integer key between 0 and 26. Using a key of 0 or 26 will always yield the same output due to modular arithmetic. The letter is shifted for as many values as the value of the key.\n",
    "\n",
    "The general notation for rotational ciphers is ROT + key. The most commonly used rotational cipher is ROT13.\n",
    "\n",
    "A ROT13 on the Latin alphabet would be as follows:\n",
    "\n",
    "<b>Plain</b>:  abcdefghijklmnopqrstuvwxyz\n",
    "\n",
    "<b>Cipher</b>: nopqrstuvwxyzabcdefghijklm\n",
    "\n",
    "It is stronger than the Atbash cipher because it has 27 possible keys, and 25 usable keys.\n",
    "\n",
    "Ciphertext is written out in the same formatting as the input including spaces and punctuation.\n",
    "\n",
    "<b> Example </b>\n",
    "\n",
    "ROT13: The quick brown fox jumps over the lazy dog. gives Gur dhvpx oebja sbk whzcf bire gur ynml qbt.\n",
    "\n",
    "ROT13: Gur dhvpx oebja sbk whzcf bire gur ynml qbt. gives The quick brown fox jumps over the lazy dog."
   ]
  },
  {
   "cell_type": "code",
   "execution_count": null,
   "metadata": {},
   "outputs": [],
   "source": []
  },
  {
   "cell_type": "code",
   "execution_count": null,
   "metadata": {},
   "outputs": [],
   "source": []
  },
  {
   "cell_type": "markdown",
   "metadata": {},
   "source": [
    "<b> Exercise 5: </b> Implement a binary search algorithm.\n",
    "    \n",
    "Searching a sorted collection is a common task. A dictionary is a sorted list of word definitions. Given a word, one can find its definition. A telephone book is a sorted list of people's names, addresses, and telephone numbers. Knowing someone's name allows one to quickly find their telephone number and address.\n",
    "\n",
    "If the list to be searched contains more than a few items (a dozen, say) a binary search will require far fewer comparisons than a linear search, but it imposes the requirement that the list be sorted.\n",
    "\n",
    "In computer science, a binary search or half-interval search algorithm finds the position of a specified input value (the search \"key\") within an array sorted by key value.\n",
    "\n",
    "In each step, the algorithm compares the search key value with the key value of the middle element of the array.\n",
    "\n",
    "If the keys match, then a matching element has been found and its index, or position, is returned.\n",
    "\n",
    "Otherwise, if the search key is less than the middle element's key, then the algorithm repeats its action on the sub-array to the left of the middle element or, if the search key is greater, on the sub-array to the right.\n",
    "\n",
    "If the remaining array to be searched is empty, then the key cannot be found in the array and a special \"not found\" indication is returned.\n",
    "\n",
    "A binary search halves the number of items to check with each iteration, so locating an item (or determining its absence) takes logarithmic time. A binary search is a dichotomic divide and conquer search algorithm.\n",
    "\n",
    "In other words:\n",
    "    * mid value = (low + high)/2  \n",
    "    * if mid value is smaller than value than low = mid + 1\n",
    "    * else mid value is greater than value than low = mid - 1\n",
    "    * else if mid value is equal to value than return value.\n",
    "    * at the end if value not found than return not found message"
   ]
  },
  {
   "cell_type": "code",
   "execution_count": 40,
   "metadata": {},
   "outputs": [],
   "source": [
    "def find(value, search_list):\n",
    "    \n",
    "    ###start your code here ###\n",
    "    return ('the value {} is not found in this list'.format(value))"
   ]
  },
  {
   "cell_type": "code",
   "execution_count": 41,
   "metadata": {},
   "outputs": [
    {
     "data": {
      "text/plain": [
       "[2, 4, 14, 22, 29, 32, 40, 44, 44, 45, 46, 48, 59, 62, 72, 73, 86, 87, 97, 99]"
      ]
     },
     "execution_count": 41,
     "metadata": {},
     "output_type": "execute_result"
    }
   ],
   "source": [
    "import random \n",
    "A = [random.randrange(0, 100) for x in range(20)]\n",
    "A"
   ]
  },
  {
   "cell_type": "code",
   "execution_count": null,
   "metadata": {},
   "outputs": [],
   "source": []
  },
  {
   "cell_type": "code",
   "execution_count": null,
   "metadata": {},
   "outputs": [],
   "source": []
  },
  {
   "cell_type": "markdown",
   "metadata": {},
   "source": [
    "Links to help you practicing python\n",
    "* https://checkio.org/"
   ]
  }
 ],
 "metadata": {
  "kernelspec": {
   "display_name": "Python 3",
   "language": "python",
   "name": "python3"
  },
  "language_info": {
   "codemirror_mode": {
    "name": "ipython",
    "version": 3
   },
   "file_extension": ".py",
   "mimetype": "text/x-python",
   "name": "python",
   "nbconvert_exporter": "python",
   "pygments_lexer": "ipython3",
   "version": "3.6.9"
  }
 },
 "nbformat": 4,
 "nbformat_minor": 2
}
