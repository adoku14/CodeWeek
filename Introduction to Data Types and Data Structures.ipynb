{
 "cells": [
  {
   "cell_type": "markdown",
   "metadata": {},
   "source": [
    "# Introduction to Python\n"
   ]
  },
  {
   "cell_type": "markdown",
   "metadata": {},
   "source": [
    "Python is a general purpose programming language that is often applied in scripting roles.\n",
    "It is a multi-purpose programming/scripting language used in:\n",
    "* Web application \n",
    "* Graphical user interface(GUI) programs\n",
    "* network and OS scripting\n",
    "* Data Science and Big Data algorithms\n",
    "\n",
    "It is free to download, easy readable and fast productive. "
   ]
  },
  {
   "cell_type": "markdown",
   "metadata": {},
   "source": [
    "Lets start with an introduction of Data types in Python. \n",
    "As in every language the primitive types are:\n",
    "* Integers (real numbers)\n",
    "* Float ( decimal number i.e 0.01, 1.5, 55.555\n",
    "* String (collections of alphabet, words and other characters)\n",
    "* Boolean (True, False)\n",
    "\n",
    "Differently from other languages, python does not require to declare type of the value. This is a job of Interpreter whenever you don't specify its type."
   ]
  },
  {
   "cell_type": "markdown",
   "metadata": {},
   "source": [
    "### 1. Integers"
   ]
  },
  {
   "cell_type": "code",
   "execution_count": 1,
   "metadata": {},
   "outputs": [
    {
     "name": "stdout",
     "output_type": "stream",
     "text": [
      "addition 11\n",
      "Substraction -1\n",
      "multiplication 30\n",
      "division 0.8333333333333334\n",
      "power 15625\n"
     ]
    }
   ],
   "source": [
    "a = 5\n",
    "b = 6\n",
    "\n",
    "#addition\n",
    "print('addition',a + b)\n",
    "\n",
    "#Substraction\n",
    "print('Substraction', a- b)\n",
    "\n",
    "#multiplication\n",
    "print('multiplication', a * b)\n",
    "\n",
    "#division\n",
    "print('division',a / b)\n",
    "\n",
    "#power\n",
    "print('power',a ** b)"
   ]
  },
  {
   "cell_type": "code",
   "execution_count": 8,
   "metadata": {},
   "outputs": [
    {
     "name": "stdout",
     "output_type": "stream",
     "text": [
      "5.0\n",
      "is integer->  True\n",
      "is integer->  False\n"
     ]
    }
   ],
   "source": [
    "#also int can be converted to float just by calling float(input) function\n",
    "print(float(a))\n",
    "float_a = float(a)\n",
    "print('is integer-> ',float_a.is_integer()) # check if this is an integer\n",
    "print('is integer-> ',float.is_integer(0.55))"
   ]
  },
  {
   "cell_type": "markdown",
   "metadata": {},
   "source": [
    "### 2. String\n",
    "\n",
    "In Python, you can create strings by enclosing a sequence of characters within a pair of single or double quotes. In other programming languages like Java single quotes is for literal chars and double quotes is for literal strings.\n",
    "Let's dive in some operations that can be performed in strings. \n"
   ]
  },
  {
   "cell_type": "code",
   "execution_count": null,
   "metadata": {},
   "outputs": [],
   "source": [
    "x = 'EUCodeWeek'\n",
    "y='Artificial Intelligence and Data Science'\n",
    "\n",
    "#concatinating 2 string\n",
    "print(x + y)\n",
    "print(x + ' ' + y)\n",
    "print(x + ' & ' + y)\n",
    "\n",
    "\n",
    "#repeat \n",
    "print(x * 2)"
   ]
  },
  {
   "cell_type": "code",
   "execution_count": null,
   "metadata": {},
   "outputs": [],
   "source": [
    "# You can also slice string or printing a substring\n",
    "print(x[0:2])\n",
    "\n",
    "#converting a string to another primitive type\n",
    "a = '2'\n",
    "a_int = int(a)\n",
    "print('a like interger is: ', a_int)\n",
    "print(type(a_int), type(a))"
   ]
  },
  {
   "cell_type": "markdown",
   "metadata": {},
   "source": [
    "Python has many build-in methods to perform operations with strings. many IDE offers you help with. We will see also in jupyter notebooks how we can get function suggestion by only pressing tab. The basic operations that can be performed are:\n",
    "* uppercase and lowercase\n",
    "* capitalize\n",
    "* replace a character\n",
    "* isdigit() to check whether is a number or not.\n",
    "* find characters in string\n",
    "* etc."
   ]
  },
  {
   "cell_type": "code",
   "execution_count": null,
   "metadata": {},
   "outputs": [],
   "source": [
    "# uppercase and lowercase\n",
    "print('uppercase-> ', x.upper())\n",
    "print('lowecase-> ', x.lower())\n",
    "\n",
    "#capitalize\n",
    "print('capitalize-> ', x.capitalize())\n",
    "\n",
    "#replace a character\n",
    "print('replacing a char-> ', x.replace('EU','European'))\n",
    "\n",
    "#check if the given string is digit\n",
    "print('is digit-> ', x.isdigit())\n",
    "print('is digit-> ', x.isalpha()) #if is alphabet, word \n",
    "\n",
    "#finding a character in the sting. find function will return the lowest index of the string where substring sub is found.\n",
    "print('find a char or word in String-> ', x.find('Code'))"
   ]
  },
  {
   "cell_type": "markdown",
   "metadata": {},
   "source": [
    "### Booleans\n",
    "This built-in data type that can take up the values: True and False, which often makes them interchangeable with the integers 1 and 0. Booleans are useful in conditional and comparison expressions, just like in the following examples:"
   ]
  },
  {
   "cell_type": "code",
   "execution_count": 14,
   "metadata": {},
   "outputs": [
    {
     "name": "stdout",
     "output_type": "stream",
     "text": [
      "is identical->  False\n",
      "is greater->  False\n",
      "is smaller->  True\n",
      "b is :  24\n"
     ]
    }
   ],
   "source": [
    "#check is 2 values are identical\n",
    "print('is identical-> ', a == b)\n",
    "\n",
    "#is greater or smaller\n",
    "print('is greater-> ', a > b)\n",
    "print('is smaller-> ', a < b)\n",
    "\n",
    "if a == 5:\n",
    "    b = b * 2\n",
    "    #b *= 2\n",
    "print('b is : ',b)\n"
   ]
  },
  {
   "cell_type": "code",
   "execution_count": null,
   "metadata": {},
   "outputs": [],
   "source": []
  },
  {
   "cell_type": "markdown",
   "metadata": {},
   "source": [
    "# Non-Primitive Data types \n",
    "Non-primitive data types are special and sophisticated members of data types family. They do not just store a value but a collection of values. Some of them are:\n",
    "* lis\n",
    "* tuple\n",
    "* sets\n",
    "* dictionaries\n",
    "\n"
   ]
  },
  {
   "cell_type": "markdown",
   "metadata": {},
   "source": [
    "## 1.Lists\n",
    "lists as the name itself, store a collection of values. However, they are differences of lists in python and other languages. In Java or C++ you have to specify the list type, for instance int[] arr = new int[10] in java and this is a list of integers. In python you don't need to do that. you can merge all 4 different data types in 1 list and play with them. They are also called as heterogeneous. To initialize a list in python just use [] brackets. \n",
    "You should be aware that the enumeration starts from 0 also in python as in most of other programming languages as well. \n",
    "Let's see the example below:"
   ]
  },
  {
   "cell_type": "code",
   "execution_count": 15,
   "metadata": {},
   "outputs": [
    {
     "data": {
      "text/plain": [
       "['hello world', 2, 'python', True]"
      ]
     },
     "execution_count": 15,
     "metadata": {},
     "output_type": "execute_result"
    }
   ],
   "source": [
    "#lists\n",
    "#declare a list\n",
    "python_list = []\n",
    "#append an element in the list. in this case it is a string\n",
    "python_list.append('hello world')\n",
    "python_list.append(2)\n",
    "python_list.extend([\"python\", True])\n",
    "\n",
    "python_list"
   ]
  },
  {
   "cell_type": "code",
   "execution_count": 18,
   "metadata": {},
   "outputs": [
    {
     "data": {
      "text/plain": [
       "['hello world', 2, 'new element', 'python', True]"
      ]
     },
     "execution_count": 18,
     "metadata": {},
     "output_type": "execute_result"
    }
   ],
   "source": [
    "#also you can add an element in your prefered index by using insert() function\n",
    "python_list.insert(2, 'new element')\n",
    "python_list"
   ]
  },
  {
   "cell_type": "code",
   "execution_count": 16,
   "metadata": {},
   "outputs": [
    {
     "name": "stdout",
     "output_type": "stream",
     "text": [
      "hello world\n",
      "2\n",
      "python\n",
      "True\n"
     ]
    }
   ],
   "source": [
    "# iterate through a list\n",
    "for i in python_list:\n",
    "    print(i)"
   ]
  },
  {
   "cell_type": "markdown",
   "metadata": {},
   "source": [
    "## 2. Sets.\n",
    "Sets somehow covers the same idea as list but offering different features like intersection, subsets, supersets, union etc. \n",
    "When adding a new element, its index is randomly choosen. Duplicates are not allowed. "
   ]
  },
  {
   "cell_type": "code",
   "execution_count": 19,
   "metadata": {},
   "outputs": [
    {
     "name": "stdout",
     "output_type": "stream",
     "text": [
      "intersection ->  {'python'}\n",
      "{True, 2, 'python', 'new element', 'hello world'}\n"
     ]
    }
   ],
   "source": [
    "#sets\n",
    "python_set = set(python_list) #converting the previous list to set.\n",
    "intersection = python_set.intersection(set(['python','3'])) #intersection 2 sets\n",
    "print('intersection -> ', intersection)\n",
    "print(python_set)\n"
   ]
  },
  {
   "cell_type": "code",
   "execution_count": 28,
   "metadata": {},
   "outputs": [
    {
     "name": "stdout",
     "output_type": "stream",
     "text": [
      "{True, 2, '101', 'python', 'new element', '100', 'hello world'}\n"
     ]
    }
   ],
   "source": [
    "#adding a new element. the element is sets is added randomly\n",
    "python_set.add('101')\n",
    "print(python_set)"
   ]
  },
  {
   "cell_type": "code",
   "execution_count": 31,
   "metadata": {},
   "outputs": [
    {
     "name": "stdout",
     "output_type": "stream",
     "text": [
      "is subset->  True\n",
      "is superset->  True\n"
     ]
    }
   ],
   "source": [
    "#check if it is a subset\n",
    "print('is subset-> ', set([2,'100']).issubset(python_set))\n",
    "print('is superset-> ', python_set.issuperset(set([2, '100'])))"
   ]
  },
  {
   "cell_type": "markdown",
   "metadata": {},
   "source": [
    "## 3. Tuples and dictionaries\n",
    "* tuple is a sequence of immutable Python objects. Tuples are sequences, just like lists. The differences between tuples and lists are, the tuples cannot be changed unlike lists and tuples use parentheses, whereas lists use square brackets. Creating a tuple is as simple as putting different comma-separated values.\n",
    "\n",
    "\n",
    "* Dictionariesare widely used in python. A dictionary is a collection which is unordered, changeable and indexed. In Python dictionaries are written with curly brackets, and is made-up by keys and values. "
   ]
  },
  {
   "cell_type": "code",
   "execution_count": 32,
   "metadata": {},
   "outputs": [
    {
     "name": "stdout",
     "output_type": "stream",
     "text": [
      "typle - >  ('hello world', 2, 'new element', 'python', True, 'add this one also ')\n",
      "print only first 2 elements:  ('hello world', 2)\n"
     ]
    }
   ],
   "source": [
    "#typles\n",
    "python_typle = tuple(python_list)\n",
    "python_typle = python_typle + ('add this one also ',)\n",
    "print('typle - > ', python_typle)\n",
    "print(\"print only first 2 elements: \", python_typle[0:2])"
   ]
  },
  {
   "cell_type": "code",
   "execution_count": 33,
   "metadata": {},
   "outputs": [
    {
     "name": "stdout",
     "output_type": "stream",
     "text": [
      "dict --> {'name': 'Ali Doku', 'city': 'Antwerpen', 'postal_code': 2018}\n",
      "only name:  Ali Doku\n"
     ]
    }
   ],
   "source": [
    "#dictionaries\n",
    "person = {}\n",
    "person = dict()\n",
    "\n",
    "person['name'] = 'Ali Doku'\n",
    "person.update({'city': 'Antwerpen',\n",
    "               'postal_code': 2018})\n",
    "print('dict -->',person)\n",
    "print('only name: ', person['name'])"
   ]
  },
  {
   "cell_type": "code",
   "execution_count": 34,
   "metadata": {},
   "outputs": [
    {
     "data": {
      "text/plain": [
       "'Ali Doku'"
      ]
     },
     "execution_count": 34,
     "metadata": {},
     "output_type": "execute_result"
    }
   ],
   "source": [
    "def getName(person):\n",
    "    return person['name']\n",
    "\n",
    "getName(person)"
   ]
  },
  {
   "cell_type": "code",
   "execution_count": null,
   "metadata": {},
   "outputs": [],
   "source": []
  },
  {
   "cell_type": "code",
   "execution_count": null,
   "metadata": {},
   "outputs": [],
   "source": []
  },
  {
   "cell_type": "code",
   "execution_count": null,
   "metadata": {},
   "outputs": [],
   "source": []
  }
 ],
 "metadata": {
  "kernelspec": {
   "display_name": "Python 3",
   "language": "python",
   "name": "python3"
  },
  "language_info": {
   "codemirror_mode": {
    "name": "ipython",
    "version": 3
   },
   "file_extension": ".py",
   "mimetype": "text/x-python",
   "name": "python",
   "nbconvert_exporter": "python",
   "pygments_lexer": "ipython3",
   "version": "3.6.9"
  }
 },
 "nbformat": 4,
 "nbformat_minor": 2
}
