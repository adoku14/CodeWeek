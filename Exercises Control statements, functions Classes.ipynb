{
 "cells": [
  {
   "cell_type": "markdown",
   "metadata": {},
   "source": [
    "# Exercises on Control statements, functions and Classes in python"
   ]
  },
  {
   "cell_type": "markdown",
   "metadata": {},
   "source": [
    "<b>Exercise 1: </b> Write a Python program which accepts the radius of a circle from the user and compute the area.\n",
    "\n",
    "r = 1.1\n",
    "\n",
    "Area = 3.8013271108436504\n",
    "\n",
    "formula = πr2 where π ~ 3.14"
   ]
  },
  {
   "cell_type": "code",
   "execution_count": null,
   "metadata": {},
   "outputs": [],
   "source": [
    "### Start your code here ###\n",
    "import math\n",
    "def compute(radius):\n",
    "#     return 3.14 * radius**2\n",
    "    return math.pi * math.pow(radius,2)\n"
   ]
  },
  {
   "cell_type": "code",
   "execution_count": null,
   "metadata": {},
   "outputs": [],
   "source": [
    "compute(5)"
   ]
  },
  {
   "cell_type": "markdown",
   "metadata": {},
   "source": [
    "<b> Exercise 2:</b> Control statements <br>\n",
    "Take a list for example:\n",
    "a = [1, 1, 2, 3, 5, 8, 13, 21, 34, 55, 89] and write a program to print out all the elements of the list that are less than 5. \n",
    "\n",
    "extras:\n",
    "task 1: Instead of printing the elements one by one, make a new list that has all the elements less than 5 from this list in it and printout this new list. \n",
    "task 2: Ask the user for a number and return a list that contains only elements from the original list a that are smaller than that number given by the user.  \n",
    "\n"
   ]
  },
  {
   "cell_type": "code",
   "execution_count": null,
   "metadata": {},
   "outputs": [],
   "source": [
    "### start you code here ###\n",
    "a = [1, 1, 2, 3, 5, 8, 13, 21, 34, 55, 89]\n",
    "new_list = []\n",
    "input_user = input('Please provide me a number')))\n",
    "input_user = int(input_user)\n",
    "\n",
    "for nr in a:\n",
    "    if nr < input_user:\n",
    "        new_list.append(nr)\n",
    "    else:\n",
    "        pass\n",
    "#         print('this number is bigger than 5')\n",
    "new_list"
   ]
  },
  {
   "cell_type": "markdown",
   "metadata": {},
   "source": [
    "<b> Exercise 3: </b>\n",
    "\n",
    "An Armstrong number is a number that is the sum of its own digits each raised to the power of the number of digits.\n",
    "\n",
    "For example:\n",
    "\n",
    "9 is an Armstrong number, because 9 = 9^1 = 9\n",
    "\n",
    "10 is not an Armstrong number, because 10 != 1^2 + 0^2 = 1\n",
    "\n",
    "153 is an Armstrong number, because: 153 = 1^3 + 5^3 + 3^3 = 1 + 125 + 27 = 153\n",
    "\n",
    "154 is not an Armstrong number, because: 154 != 1^3 + 5^3 + 4^3 = 1 + 125 + 64 = 190\n",
    "\n",
    "Write some code to determine whether a number is an Armstrong number.\n",
    "    "
   ]
  },
  {
   "cell_type": "code",
   "execution_count": null,
   "metadata": {},
   "outputs": [],
   "source": [
    "#1200 -> power_nr = 4, 1**4 + 2**4 + 0**4\n",
    "def isAmstrong(number):\n",
    "    str_number = str(number)\n",
    "    power_nr = len(str_number)\n",
    "    result = 0\n",
    "    for digit in str_number:\n",
    "        result += int(digit)**power_nr\n",
    "    if result == number:\n",
    "        return f\"this {number} is an Amstrong number\"\n",
    "    else:\n",
    "        print f\"this {number} is not an Amstrong number\"\n",
    "result = isAmstrong(154)\n",
    "print(result)\n"
   ]
  },
  {
   "cell_type": "markdown",
   "metadata": {},
   "source": [
    "<b> Exercise 4:</b> Control statements <br>\n",
    "\n",
    "Hangman game\n",
    "\n",
    "Let’s continue building Hangman. In the game of Hangman, a clue word is given by the program that the player has to guess, letter by letter. The player guesses one letter at a time until the entire word has been guessed. (In the actual game, the player can only guess 6 letters incorrectly before losing).\n",
    "\n",
    "Let’s say the word the player has to guess is “EVAPORATE”. For this exercise, write the logic that asks a player to guess a letter and displays letters in the clue word that were guessed correctly. For now, let the player guess an infinite number of times until they get the entire word. As a bonus, keep track of the letters the player guessed and display a different message if the player tries to guess that letter again. Remember to stop the game when all the letters have been guessed correctly! Don’t worry about choosing a word randomly or keeping track of the number of guesses the player has remaining - we will deal with those in a future exercise.\n",
    "\n",
    "An example interaction can look like this:\n",
    "\n",
    " Welcome to Hangman!<br>\n",
    "_ _ _ _ _ _ _ _ _<br>\n",
    " Guess your letter: S<br>\n",
    "Incorrect!<br>\n",
    " Guess your letter: E<br>\n",
    "E _ _ _ _ _ _ _ E<br>\n",
    "...<br>\n",
    "And so on, until the player gets the word. "
   ]
  },
  {
   "cell_type": "code",
   "execution_count": null,
   "metadata": {},
   "outputs": [],
   "source": [
    "\n",
    "word = 'Calculate'\n",
    "word_lower = word.lower()\n",
    "word_list = list(word_lower)\n",
    "[x for x in range(len(word_list)) if word_list[x] == 'a']\n",
    "new_list = []\n",
    "for x in range(len(word_list)):\n",
    "    if word_list[x] == 'l':\n",
    "        new_list.append(x)\n",
    "        \n",
    "new_list"
   ]
  },
  {
   "cell_type": "code",
   "execution_count": null,
   "metadata": {},
   "outputs": [],
   "source": [
    "word = 'Calculate'\n",
    "word_lower = word.lower()\n",
    "word_list = list(word_lower)\n",
    "input_word = ['_' for x in range(len(word))]\n",
    "\n",
    "while ''.join(input_word) != word_lower:\n",
    "    input_letter = input('Guess a letter')\n",
    "    input_letter = input_letter.lower()\n",
    "    \n",
    "    if input_letter in word_list:\n",
    "#         index_letter = word_list.index(input_letter)\n",
    "        index_letter = [x for x in range(len(word_list)) if word_list[x] == input_letter]\n",
    "        for i in index_letter:\n",
    "            word_list[i] = '@'\n",
    "            input_word[i] = input_letter\n",
    "        print('Correct!')\n",
    "        print(input_word)\n",
    "    else:\n",
    "        print('This is not correct!')\n",
    "        \n",
    "    "
   ]
  },
  {
   "cell_type": "markdown",
   "metadata": {},
   "source": [
    "<b> Exercise 5:</b> Functions & Classes<br>\n",
    "\n",
    "Make a two-player Rock-Paper-Scissors game. (Hint: Ask for player plays (using input), compare them, print out a message of congratulations to the winner, and ask if the players want to start a new game). For the person you should create a class with the following variables, name and choice. When asking the user for input you should start creating user profile. \n",
    "The result will be the winner.\n",
    "\n",
    "Remember the rules:\n",
    "\n",
    "- Rock beats scissors\n",
    "- Scissors beats paper\n",
    "- Paper beats rock"
   ]
  },
  {
   "cell_type": "code",
   "execution_count": 3,
   "metadata": {},
   "outputs": [],
   "source": [
    "### Start Your Code here ###\n",
    "#start by creating the class first.\n",
    "class Player:\n",
    "    \n",
    "    def __init__(self, name):\n",
    "        self.name = name\n",
    "        self.choice = ''\n",
    "    \n",
    "    def update_choice(self, choice):\n",
    "        self.choice  = choice\n",
    "    def getChoice():\n",
    "        return self.choice\n",
    "        \n"
   ]
  },
  {
   "cell_type": "code",
   "execution_count": 4,
   "metadata": {},
   "outputs": [
    {
     "data": {
      "text/plain": [
       "0"
      ]
     },
     "execution_count": 4,
     "metadata": {},
     "output_type": "execute_result"
    }
   ],
   "source": [
    "def compare(choice_1, choice_2):\n",
    "    if choice_1 == choice_2:\n",
    "        return 0\n",
    "    elif choice_1 == 'scissors':\n",
    "        if choice_2 == 'paper':\n",
    "            return 1\n",
    "        else:\n",
    "            return 2\n",
    "    elif choice_1 == 'rock':\n",
    "        if choice_2 == 'paper':\n",
    "            return 2\n",
    "        else:\n",
    "            return 1\n",
    "    elif choice_1 == 'paper':\n",
    "        if choice_2 == 'rock':\n",
    "            return 1\n",
    "        else:\n",
    "            return 2\n",
    "compare('paper', 'paper')\n",
    "        \n",
    "    #write the function to compare the inputs and return the winner"
   ]
  },
  {
   "cell_type": "code",
   "execution_count": 5,
   "metadata": {},
   "outputs": [
    {
     "name": "stdout",
     "output_type": "stream",
     "text": [
      "Please enter your name user 1Ali\n",
      "Please enter your name user 2Mustafa\n",
      "The options to choose are [scissors,paper,rock]\n",
      "User 1 please select a choice!paper\n",
      "User 2 please select a choice!scissors\n",
      "Mustafa wins!\n"
     ]
    }
   ],
   "source": [
    "user1_name = input('Please enter your name user 1')\n",
    "user2_name = input('Please enter your name user 2')\n",
    "user1 = Player(user1_name)\n",
    "user2 = Player(user2_name)\n",
    "\n",
    "while True:\n",
    "    print('The options to choose are [scissors,paper,rock]')\n",
    "    choice_1 = input('User 1 please select a choice!')\n",
    "    user1.update_choice(choice_1.lower())\n",
    "#     user1.choice = choice_1\n",
    "    choice_2= input('User 2 please select a choice!')\n",
    "    user2.update_choice(choice_2.lower())\n",
    "    \n",
    "    answer = compare(user1.choice, user2.choice)\n",
    "    if answer == 0:\n",
    "        print('Draw!')\n",
    "    elif answer == 1:\n",
    "        print(f'{user1.name} wins!' )\n",
    "        break\n",
    "    else:\n",
    "        print(f'{user2.name} wins!' )\n",
    "        break\n",
    "    \n",
    "    "
   ]
  },
  {
   "cell_type": "markdown",
   "metadata": {},
   "source": [
    "<b> Exercise 6: </b> Read/Write to file\n",
    "\n",
    "Write a Python program to count the frequency of words in a file. \n",
    "After you have done this, you write back to file top 10 most frequent words.\n"
   ]
  },
  {
   "cell_type": "code",
   "execution_count": 7,
   "metadata": {},
   "outputs": [],
   "source": [
    "from collections import Counter"
   ]
  },
  {
   "cell_type": "code",
   "execution_count": 15,
   "metadata": {},
   "outputs": [
    {
     "name": "stdout",
     "output_type": "stream",
     "text": [
      "Counter({'the': 16, 'a': 15, 'is': 12, 'file': 9, 'be': 7, 'or': 7, 'as': 6, 'of': 6, 'that': 6, 'you': 5, 'in': 5, 'can': 5, 'files': 5, 'and': 5, 'text': 4, 'line': 4, 'know': 3, 'for': 3, 'by': 3, 'are': 3, 'new': 3, 'character': 3, 'to': 3, 'open': 3, 'File': 2, 'any': 2, 'In': 2, 'Python,': 2, 'two': 2, 'sequence': 2, 'This': 2, 'with': 2, 'character.': 2, 'but': 2, 'most': 2, 'tells': 2, 'interpreter': 2, 'has': 2, 'A': 2, 'it': 2, 'when': 2, 'binary': 2, 'an': 2, 'must': 2, '': 2, 'name': 2, 'Types': 1, 'What': 1, 'may': 1, 'slightly': 1, 'different': 1, 'Python.In': 1, 'Windows,': 1, 'example,': 1, 'item': 1, 'manipulated,': 1, 'edited': 1, 'created': 1, 'user/OS.': 1, 'That': 1, 'means': 1, 'images,': 1, 'documents,': 1, 'executables,': 1, 'much': 1, 'more.': 1, 'Most': 1, 'organized': 1, 'keeping': 1, 'them': 1, 'individual': 1, 'folders.': 1, 'categorized': 1, 'either': 1, 'binary,': 1, 'difference': 1, 'between': 1, 'types': 1, 'important.': 1, 'Text': 1, 'structured': 1, 'lines,': 1, 'where': 1, 'each': 1, 'includes': 1, 'characters.': 1, 'what': 1, 'code': 1, 'syntax.': 1, 'Each': 1, 'terminated': 1, 'special': 1, 'character,': 1, 'called': 1, 'EOL': 1, 'End': 1, 'Line': 1, 'There': 1, 'several': 1, 'types,': 1, 'common': 1, 'comma': 1, '{,}': 1, 'newline': 1, 'It': 1, 'ends': 1, 'current': 1, 'one': 1, 'begun.': 1, 'backslash': 1, 'also': 1, 'used,': 1, 'next': 1, 'following': 1, 'slash': 1, 'should': 1, 'treated': 1, 'line.': 1, 'useful': 1, 'dont': 1, 'want': 1, 'start': 1, 'itself': 1, 'code.': 1, 'type': 1, 'not': 1, 'file.': 1, 'Because': 1, 'their': 1, 'nature,': 1, 'only': 1, 'processed': 1, 'application': 1, 'understand': 1, 'structure.': 1, 'other': 1, 'words,': 1, 'they': 1, 'applications': 1, 'read': 1, 'interpret': 1, 'binary.In': 1, 'order': 1, 'writing': 1, 'use': 1, 'rely': 1, 'on': 1, 'built-in': 1, 'function.': 1, 'As': 1, 'explained': 1, 'above,': 1, 'will': 1, 'return': 1, 'object,': 1, 'so': 1, 'commonly': 1, 'used': 1, 'arguments.': 1, 'An': 1, 'argument': 1, 'nothing': 1, 'more': 1, 'than': 1, 'value': 1, 'been': 1, 'provided': 1, 'function,': 1, 'which': 1, 'relayed': 1, 'call': 1, 'it.': 1, 'So,': 1, 'instance,': 1, 'if': 1, 'we': 1, 'declare': 1, 'Test': 1, 'would': 1, 'considered': 1, 'argument.': 1})\n"
     ]
    }
   ],
   "source": [
    "\n",
    "with open('data/sample.txt', 'r') as file:\n",
    "    file_info = file.readlines()\n",
    "#     print(file_info)\n",
    "    di = Counter(file_info[0].split(' '))\n",
    "    print(di)"
   ]
  },
  {
   "cell_type": "code",
   "execution_count": 16,
   "metadata": {},
   "outputs": [],
   "source": [
    "\n",
    "with open('data/test.txt', 'w') as f:\n",
    "    f.write('this is a simple test')"
   ]
  },
  {
   "cell_type": "code",
   "execution_count": null,
   "metadata": {},
   "outputs": [],
   "source": []
  }
 ],
 "metadata": {
  "kernelspec": {
   "display_name": "Python 3",
   "language": "python",
   "name": "python3"
  },
  "language_info": {
   "codemirror_mode": {
    "name": "ipython",
    "version": 3
   },
   "file_extension": ".py",
   "mimetype": "text/x-python",
   "name": "python",
   "nbconvert_exporter": "python",
   "pygments_lexer": "ipython3",
   "version": "3.6.9"
  }
 },
 "nbformat": 4,
 "nbformat_minor": 2
}
